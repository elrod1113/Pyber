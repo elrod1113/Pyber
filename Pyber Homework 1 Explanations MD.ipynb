{
 "cells": [
  {
   "cell_type": "markdown",
   "metadata": {},
   "source": [
    "#When drivers were analyzed on the basis of the type of setting they typically drove in, they mostly drove in an urban setting, followed by surburban and rural settings respectively.\n",
    "\n",
    "#"
   ]
  },
  {
   "cell_type": "markdown",
   "metadata": {},
   "source": [
    "#When rides were analyzed by the type of setting they rode in, almost 69% of rides were taken in an urban setting, 26% of rides were taken in suburban setting, and 5% were taken in a rural setting."
   ]
  },
  {
   "cell_type": "markdown",
   "metadata": {},
   "source": [
    "I couldn't analyze the fares by city type, because I couldn't get my pie chart to display.  But based on the two previous analyses, I would surmise that the data would be consistent with most of fares earned would be in an urban setting, followed by a surburban and rural settings, respectively."
   ]
  },
  {
   "cell_type": "markdown",
   "metadata": {},
   "source": [
    "I also couldn't analze any data using the bubble plot, because I couldn't get the bubble plot to display."
   ]
  },
  {
   "cell_type": "code",
   "execution_count": null,
   "metadata": {},
   "outputs": [],
   "source": []
  }
 ],
 "metadata": {
  "kernelspec": {
   "display_name": "Python 3",
   "language": "python",
   "name": "python3"
  },
  "language_info": {
   "codemirror_mode": {
    "name": "ipython",
    "version": 3
   },
   "file_extension": ".py",
   "mimetype": "text/x-python",
   "name": "python",
   "nbconvert_exporter": "python",
   "pygments_lexer": "ipython3",
   "version": "3.7.3"
  }
 },
 "nbformat": 4,
 "nbformat_minor": 2
}
