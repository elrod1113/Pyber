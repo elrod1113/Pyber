{
 "cells": [
  {
   "cell_type": "code",
   "execution_count": 1,
   "metadata": {},
   "outputs": [
    {
     "name": "stdout",
     "output_type": "stream",
     "text": [
      "C:\\Users\\Gold _HP\n"
     ]
    }
   ],
   "source": [
    "cd"
   ]
  },
  {
   "cell_type": "code",
   "execution_count": 2,
   "metadata": {},
   "outputs": [
    {
     "name": "stdout",
     "output_type": "stream",
     "text": [
      " Volume in drive C is Windows\n",
      " Volume Serial Number is 9424-13F5\n",
      "\n",
      " Directory of C:\\Users\\Gold _HP\n",
      "\n",
      "05/25/2019  11:01 PM    <DIR>          .\n",
      "05/25/2019  11:01 PM    <DIR>          ..\n",
      "04/30/2019  10:19 PM    <DIR>          .anaconda\n",
      "05/22/2019  09:40 PM             7,251 .bash_history\n",
      "05/19/2019  06:11 PM    <DIR>          .conda\n",
      "05/25/2019  11:14 AM                43 .condarc\n",
      "05/07/2019  11:17 PM               299 .gitconfig\n",
      "05/25/2019  11:01 PM    <DIR>          .ipynb_checkpoints\n",
      "05/08/2019  09:16 PM    <DIR>          .ipython\n",
      "05/11/2019  11:32 AM    <DIR>          .jupyter\n",
      "05/18/2019  12:38 PM    <DIR>          .matplotlib\n",
      "05/12/2019  06:19 PM    <DIR>          .pylint.d\n",
      "04/16/2019  10:45 PM    <DIR>          .ssh\n",
      "04/29/2019  09:05 PM               556 .viminfo\n",
      "04/01/2019  08:25 PM    <DIR>          .vscode\n",
      "04/20/2019  10:04 AM               202 _netrc\n",
      "05/18/2019  01:53 PM    <DIR>          3D Objects\n",
      "03/09/2019  06:54 PM    <DIR>          Contacts\n",
      "05/25/2019  02:20 PM             4,055 CS Dojo Practice.ipynb\n",
      "05/25/2019  10:13 PM    <DIR>          Desktop\n",
      "05/07/2019  11:17 PM    <DIR>          Documents\n",
      "05/25/2019  10:19 PM    <DIR>          Downloads\n",
      "03/09/2019  06:54 PM    <DIR>          Favorites\n",
      "04/20/2019  02:17 PM    <DIR>          LearningSSH\n",
      "04/29/2019  08:56 PM    <DIR>          LearnPython\n",
      "03/09/2019  06:54 PM    <DIR>          Links\n",
      "03/09/2019  06:54 PM    <DIR>          Music\n",
      "05/14/2019  06:21 PM    <DIR>          OneDrive\n",
      "05/04/2019  07:19 PM    <DIR>          Pictures\n",
      "05/25/2019  11:00 PM            10,121 Pyber - Homework.ipynb\n",
      "04/15/2019  09:43 PM    <DIR>          python-2\n",
      "05/10/2019  07:58 PM    <DIR>          Python-Challenge\n",
      "04/15/2019  12:24 AM    <DIR>          python-getting-started\n",
      "05/22/2019  06:17 PM    <DIR>          RICH201904DATA3\n",
      "04/20/2019  10:41 AM    <DIR>          Satclass\n",
      "03/09/2019  06:54 PM    <DIR>          Saved Games\n",
      "03/09/2019  06:54 PM    <DIR>          Searches\n",
      "05/25/2019  11:01 PM                72 Untitled.ipynb\n",
      "03/09/2019  06:54 PM    <DIR>          Videos\n",
      "               8 File(s)         22,599 bytes\n",
      "              31 Dir(s)  71,378,214,912 bytes free\n"
     ]
    }
   ],
   "source": [
    "ls"
   ]
  },
  {
   "cell_type": "code",
   "execution_count": 3,
   "metadata": {},
   "outputs": [
    {
     "name": "stdout",
     "output_type": "stream",
     "text": [
      "C:\\Users\\Gold _HP\\RICH201904DATA3\n"
     ]
    }
   ],
   "source": [
    "cd RICH201904DATA3"
   ]
  },
  {
   "cell_type": "code",
   "execution_count": 4,
   "metadata": {},
   "outputs": [
    {
     "ename": "NameError",
     "evalue": "name 'LS' is not defined",
     "output_type": "error",
     "traceback": [
      "\u001b[1;31m---------------------------------------------------------------------------\u001b[0m",
      "\u001b[1;31mNameError\u001b[0m                                 Traceback (most recent call last)",
      "\u001b[1;32m<ipython-input-4-e3e55ccad076>\u001b[0m in \u001b[0;36m<module>\u001b[1;34m\u001b[0m\n\u001b[1;32m----> 1\u001b[1;33m \u001b[0mLS\u001b[0m\u001b[1;33m\u001b[0m\u001b[1;33m\u001b[0m\u001b[0m\n\u001b[0m",
      "\u001b[1;31mNameError\u001b[0m: name 'LS' is not defined"
     ]
    }
   ],
   "source": [
    "LS"
   ]
  },
  {
   "cell_type": "code",
   "execution_count": 5,
   "metadata": {},
   "outputs": [
    {
     "name": "stdout",
     "output_type": "stream",
     "text": [
      " Volume in drive C is Windows\n",
      " Volume Serial Number is 9424-13F5\n",
      "\n",
      " Directory of C:\\Users\\Gold _HP\\RICH201904DATA3\n",
      "\n",
      "05/22/2019  06:17 PM    <DIR>          .\n",
      "05/22/2019  06:17 PM    <DIR>          ..\n",
      "05/19/2019  11:34 AM             1,261 .gitignore\n",
      "05/19/2019  11:34 AM    <DIR>          1-Excel\n",
      "05/19/2019  11:34 AM    <DIR>          2-VBA\n",
      "05/19/2019  11:34 AM    <DIR>          3-Python\n",
      "05/19/2019  11:35 AM    <DIR>          4-Pandas\n",
      "05/19/2019  11:35 AM    <DIR>          5-Matplotlib\n",
      "05/22/2019  06:17 PM    <DIR>          6-APIs\n",
      "05/25/2019  07:59 PM    <DIR>          6-PythonAPIs\n",
      "05/22/2019  06:17 PM    <DIR>          Preclass\n",
      "               1 File(s)          1,261 bytes\n",
      "              10 Dir(s)  71,378,149,376 bytes free\n"
     ]
    }
   ],
   "source": [
    "ls"
   ]
  },
  {
   "cell_type": "code",
   "execution_count": 7,
   "metadata": {},
   "outputs": [
    {
     "name": "stdout",
     "output_type": "stream",
     "text": [
      "C:\\Users\\Gold _HP\\RICH201904DATA3\\5-Matplotlib\n"
     ]
    }
   ],
   "source": [
    "cd 5-Matplotlib"
   ]
  },
  {
   "cell_type": "code",
   "execution_count": 8,
   "metadata": {},
   "outputs": [
    {
     "name": "stdout",
     "output_type": "stream",
     "text": [
      " Volume in drive C is Windows\n",
      " Volume Serial Number is 9424-13F5\n",
      "\n",
      " Directory of C:\\Users\\Gold _HP\\RICH201904DATA3\\5-Matplotlib\n",
      "\n",
      "05/19/2019  11:35 AM    <DIR>          .\n",
      "05/19/2019  11:35 AM    <DIR>          ..\n",
      "05/19/2019  11:35 AM    <DIR>          1\n",
      "05/19/2019  11:35 AM    <DIR>          2\n",
      "05/19/2019  11:35 AM    <DIR>          3\n",
      "05/19/2019  11:35 AM    <DIR>          Homework\n",
      "05/19/2019  11:35 AM               922 README.md\n",
      "05/19/2019  11:35 AM             1,831 StudentGuide.md\n",
      "05/19/2019  11:35 AM               501 VideoGuide.md\n",
      "               3 File(s)          3,254 bytes\n",
      "               6 Dir(s)  71,377,629,184 bytes free\n"
     ]
    }
   ],
   "source": [
    "ls"
   ]
  },
  {
   "cell_type": "code",
   "execution_count": 9,
   "metadata": {},
   "outputs": [
    {
     "name": "stdout",
     "output_type": "stream",
     "text": [
      "C:\\Users\\Gold _HP\\RICH201904DATA3\\5-Matplotlib\\Homework\n"
     ]
    }
   ],
   "source": [
    "cd Homework"
   ]
  },
  {
   "cell_type": "code",
   "execution_count": 10,
   "metadata": {},
   "outputs": [
    {
     "name": "stdout",
     "output_type": "stream",
     "text": [
      " Volume in drive C is Windows\n",
      " Volume Serial Number is 9424-13F5\n",
      "\n",
      " Directory of C:\\Users\\Gold _HP\\RICH201904DATA3\\5-Matplotlib\\Homework\n",
      "\n",
      "05/19/2019  11:35 AM    <DIR>          .\n",
      "05/19/2019  11:35 AM    <DIR>          ..\n",
      "05/19/2019  11:35 AM    <DIR>          Images\n",
      "05/25/2019  08:03 PM    <DIR>          Pyber\n",
      "05/19/2019  11:35 AM    <DIR>          Pymaceuticals\n",
      "05/19/2019  11:35 AM             7,439 README.md\n",
      "               1 File(s)          7,439 bytes\n",
      "               5 Dir(s)  71,377,465,344 bytes free\n"
     ]
    }
   ],
   "source": [
    "ls"
   ]
  },
  {
   "cell_type": "code",
   "execution_count": 11,
   "metadata": {},
   "outputs": [
    {
     "name": "stdout",
     "output_type": "stream",
     "text": [
      "C:\\Users\\Gold _HP\\RICH201904DATA3\\5-Matplotlib\\Homework\\Pyber\n"
     ]
    }
   ],
   "source": [
    "cd Pyber"
   ]
  },
  {
   "cell_type": "code",
   "execution_count": 12,
   "metadata": {},
   "outputs": [
    {
     "name": "stdout",
     "output_type": "stream",
     "text": [
      " Volume in drive C is Windows\n",
      " Volume Serial Number is 9424-13F5\n",
      "\n",
      " Directory of C:\\Users\\Gold _HP\\RICH201904DATA3\\5-Matplotlib\\Homework\\Pyber\n",
      "\n",
      "05/25/2019  08:03 PM    <DIR>          .\n",
      "05/25/2019  08:03 PM    <DIR>          ..\n",
      "05/25/2019  03:20 PM    <DIR>          .ipynb_checkpoints\n",
      "05/25/2019  10:19 PM    <DIR>          data\n",
      "05/25/2019  08:03 PM           146,781 pyber_starter.ipynb\n",
      "               1 File(s)        146,781 bytes\n",
      "               4 Dir(s)  71,377,342,464 bytes free\n"
     ]
    }
   ],
   "source": [
    "ls"
   ]
  },
  {
   "cell_type": "code",
   "execution_count": 13,
   "metadata": {},
   "outputs": [
    {
     "name": "stdout",
     "output_type": "stream",
     "text": [
      "C:\\Users\\Gold _HP\\RICH201904DATA3\\5-Matplotlib\\Homework\\Pyber\\data\n"
     ]
    }
   ],
   "source": [
    "cd data"
   ]
  },
  {
   "cell_type": "code",
   "execution_count": 14,
   "metadata": {},
   "outputs": [
    {
     "name": "stdout",
     "output_type": "stream",
     "text": [
      " Volume in drive C is Windows\n",
      " Volume Serial Number is 9424-13F5\n",
      "\n",
      " Directory of C:\\Users\\Gold _HP\\RICH201904DATA3\\5-Matplotlib\\Homework\\Pyber\\data\n",
      "\n",
      "05/25/2019  10:19 PM    <DIR>          .\n",
      "05/25/2019  10:19 PM    <DIR>          ..\n",
      "05/19/2019  11:35 AM             2,734 city_data.csv\n",
      "05/25/2019  10:19 PM           125,526 ride_data.csv\n",
      "               2 File(s)        128,260 bytes\n",
      "               2 Dir(s)  71,377,354,752 bytes free\n"
     ]
    }
   ],
   "source": [
    "ls"
   ]
  },
  {
   "cell_type": "code",
   "execution_count": 15,
   "metadata": {},
   "outputs": [],
   "source": [
    "#Import Dependencies\n",
    "import matplotlib.pyplot as plt\n",
    "import pandas as pd\n",
    "import numpy as np\n",
    "import os"
   ]
  },
  {
   "cell_type": "code",
   "execution_count": 16,
   "metadata": {},
   "outputs": [],
   "source": [
    "#Load files\n",
    "city_data_file = \"city_data.csv\"\n",
    "ride_data_file = \"ride_data.csv\""
   ]
  },
  {
   "cell_type": "code",
   "execution_count": 17,
   "metadata": {},
   "outputs": [],
   "source": [
    "#Read files\n",
    "city_data = pd.read_csv(city_data_file)\n",
    "ride_data = pd.read_csv(ride_data_file)"
   ]
  },
  {
   "cell_type": "code",
   "execution_count": 22,
   "metadata": {},
   "outputs": [],
   "source": [
    "#Combine Data Sets\n",
    "combined_df = pd.merge(city_data, ride_data, on = \"city\")"
   ]
  },
  {
   "cell_type": "code",
   "execution_count": 37,
   "metadata": {},
   "outputs": [
    {
     "ename": "NameError",
     "evalue": "name 'total_rides' is not defined",
     "output_type": "error",
     "traceback": [
      "\u001b[1;31m---------------------------------------------------------------------------\u001b[0m",
      "\u001b[1;31mNameError\u001b[0m                                 Traceback (most recent call last)",
      "\u001b[1;32m<ipython-input-37-ae04493c0fe2>\u001b[0m in \u001b[0;36m<module>\u001b[1;34m\u001b[0m\n\u001b[0;32m      1\u001b[0m \u001b[0mtotal_rides_by_city\u001b[0m \u001b[1;33m=\u001b[0m \u001b[0mcombined_df\u001b[0m\u001b[1;33m.\u001b[0m\u001b[0mgroupby\u001b[0m\u001b[1;33m(\u001b[0m\u001b[1;34m\"city\"\u001b[0m\u001b[1;33m)\u001b[0m\u001b[1;33m[\u001b[0m\u001b[1;34m\"ride_id\"\u001b[0m\u001b[1;33m]\u001b[0m\u001b[1;33m.\u001b[0m\u001b[0mcount\u001b[0m\u001b[1;33m(\u001b[0m\u001b[1;33m)\u001b[0m\u001b[1;33m\u001b[0m\u001b[1;33m\u001b[0m\u001b[0m\n\u001b[1;32m----> 2\u001b[1;33m \u001b[0mtotal_rides_by_city\u001b[0m \u001b[1;33m=\u001b[0m \u001b[0mpd\u001b[0m\u001b[1;33m.\u001b[0m\u001b[0mDataFrame\u001b[0m\u001b[1;33m(\u001b[0m\u001b[0mtotal_rides\u001b[0m\u001b[1;33m)\u001b[0m\u001b[1;33m.\u001b[0m\u001b[0mreset_index\u001b[0m\u001b[1;33m(\u001b[0m\u001b[1;33m)\u001b[0m\u001b[1;33m\u001b[0m\u001b[1;33m\u001b[0m\u001b[0m\n\u001b[0m",
      "\u001b[1;31mNameError\u001b[0m: name 'total_rides' is not defined"
     ]
    }
   ],
   "source": [
    "total_rides_by_city = combined_df.groupby(\"city\")[\"ride_id\"].count()\n",
    "total_rides_by_city = pd.DataFrame(total_rides).reset_index()"
   ]
  },
  {
   "cell_type": "code",
   "execution_count": 23,
   "metadata": {},
   "outputs": [
    {
     "data": {
      "text/html": [
       "<div>\n",
       "<style scoped>\n",
       "    .dataframe tbody tr th:only-of-type {\n",
       "        vertical-align: middle;\n",
       "    }\n",
       "\n",
       "    .dataframe tbody tr th {\n",
       "        vertical-align: top;\n",
       "    }\n",
       "\n",
       "    .dataframe thead th {\n",
       "        text-align: right;\n",
       "    }\n",
       "</style>\n",
       "<table border=\"1\" class=\"dataframe\">\n",
       "  <thead>\n",
       "    <tr style=\"text-align: right;\">\n",
       "      <th></th>\n",
       "      <th>city</th>\n",
       "      <th>driver_count</th>\n",
       "      <th>type</th>\n",
       "      <th>date</th>\n",
       "      <th>fare</th>\n",
       "      <th>ride_id</th>\n",
       "    </tr>\n",
       "  </thead>\n",
       "  <tbody>\n",
       "    <tr>\n",
       "      <th>0</th>\n",
       "      <td>Richardfort</td>\n",
       "      <td>38</td>\n",
       "      <td>Urban</td>\n",
       "      <td>2018-02-24 08:40:38</td>\n",
       "      <td>13.93</td>\n",
       "      <td>5628545007794</td>\n",
       "    </tr>\n",
       "    <tr>\n",
       "      <th>1</th>\n",
       "      <td>Richardfort</td>\n",
       "      <td>38</td>\n",
       "      <td>Urban</td>\n",
       "      <td>2018-02-13 12:46:07</td>\n",
       "      <td>14.00</td>\n",
       "      <td>910050116494</td>\n",
       "    </tr>\n",
       "    <tr>\n",
       "      <th>2</th>\n",
       "      <td>Richardfort</td>\n",
       "      <td>38</td>\n",
       "      <td>Urban</td>\n",
       "      <td>2018-02-16 13:52:19</td>\n",
       "      <td>17.92</td>\n",
       "      <td>820639054416</td>\n",
       "    </tr>\n",
       "    <tr>\n",
       "      <th>3</th>\n",
       "      <td>Richardfort</td>\n",
       "      <td>38</td>\n",
       "      <td>Urban</td>\n",
       "      <td>2018-02-01 20:18:28</td>\n",
       "      <td>10.26</td>\n",
       "      <td>9554935945413</td>\n",
       "    </tr>\n",
       "    <tr>\n",
       "      <th>4</th>\n",
       "      <td>Richardfort</td>\n",
       "      <td>38</td>\n",
       "      <td>Urban</td>\n",
       "      <td>2018-04-17 02:26:37</td>\n",
       "      <td>23.00</td>\n",
       "      <td>720020655850</td>\n",
       "    </tr>\n",
       "  </tbody>\n",
       "</table>\n",
       "</div>"
      ],
      "text/plain": [
       "          city  driver_count   type                 date   fare        ride_id\n",
       "0  Richardfort            38  Urban  2018-02-24 08:40:38  13.93  5628545007794\n",
       "1  Richardfort            38  Urban  2018-02-13 12:46:07  14.00   910050116494\n",
       "2  Richardfort            38  Urban  2018-02-16 13:52:19  17.92   820639054416\n",
       "3  Richardfort            38  Urban  2018-02-01 20:18:28  10.26  9554935945413\n",
       "4  Richardfort            38  Urban  2018-04-17 02:26:37  23.00   720020655850"
      ]
     },
     "execution_count": 23,
     "metadata": {},
     "output_type": "execute_result"
    }
   ],
   "source": [
    "#Display Dataframe\n",
    "combined_df.head()"
   ]
  },
  {
   "cell_type": "code",
   "execution_count": 38,
   "metadata": {},
   "outputs": [
    {
     "name": "stdout",
     "output_type": "stream",
     "text": [
      "city\n",
      "Amandaburgh             24.641667\n",
      "Barajasview             25.332273\n",
      "Barronchester           36.422500\n",
      "Bethanyland             32.956111\n",
      "Bradshawfurt            40.064000\n",
      "Brandonfort             35.437368\n",
      "Carriemouth             28.314444\n",
      "Christopherfurt         24.501852\n",
      "Colemanland             30.894545\n",
      "Davidfurt               31.995882\n",
      "Deanville               25.842632\n",
      "East Aaronbury          25.661111\n",
      "East Danielview         31.560588\n",
      "East Kaylahaven         23.757931\n",
      "East Kentstad           29.823077\n",
      "East Marymouth          30.835185\n",
      "Erikaland               24.906667\n",
      "Garzaport               24.123333\n",
      "Grahamburgh             25.221200\n",
      "Grayville               27.763333\n",
      "Harringtonfort          33.470000\n",
      "Huntermouth             28.993750\n",
      "Hurleymouth             25.891429\n",
      "Jerryton                25.649200\n",
      "Jessicaport             36.013333\n",
      "Johnton                 26.785714\n",
      "Joneschester            22.289600\n",
      "Josephside              32.858148\n",
      "Justinberg              23.694333\n",
      "Karenberg               26.340000\n",
      "                          ...    \n",
      "South Evanton           26.726129\n",
      "South Jack              22.965263\n",
      "South Jennifer          35.264286\n",
      "South Karenland         26.535526\n",
      "South Latoya            20.093158\n",
      "South Marychester       41.870000\n",
      "South Michelleport      24.451613\n",
      "South Phillip           28.571290\n",
      "South Saramouth         36.160000\n",
      "South Teresa            31.220455\n",
      "Taylorhaven             42.263333\n",
      "Valentineton            24.636364\n",
      "Veronicaberg            32.828235\n",
      "Victoriaport            27.780000\n",
      "West Angela             25.990000\n",
      "West Anthony            24.736667\n",
      "West Christopherberg    24.421154\n",
      "West Ericstad           22.347222\n",
      "West Gabriel            20.346087\n",
      "West Hannah             29.547619\n",
      "West Heather            33.890000\n",
      "West Heidi              23.133929\n",
      "West Josephberg         21.720385\n",
      "West Kimmouth           29.871500\n",
      "West Patrickchester     28.233125\n",
      "West Robert             25.123871\n",
      "West Samuelburgh        21.767600\n",
      "Williamsonville         31.875000\n",
      "Williamsstad            24.362174\n",
      "Williamsview            26.599000\n",
      "Name: fare, Length: 120, dtype: float64\n"
     ]
    }
   ],
   "source": [
    "#Avg Fare by City\n",
    "city_avg_fare = combined_df.groupby(\"city\").mean()[\"fare\"]\n",
    "print(city_avg_fare)"
   ]
  },
  {
   "cell_type": "code",
   "execution_count": 44,
   "metadata": {},
   "outputs": [
    {
     "name": "stdout",
     "output_type": "stream",
     "text": [
      "     index                  city  ride_id\n",
      "0        0           Amandaburgh       18\n",
      "1        1           Barajasview       22\n",
      "2        2         Barronchester       16\n",
      "3        3           Bethanyland       18\n",
      "4        4          Bradshawfurt       10\n",
      "5        5           Brandonfort       19\n",
      "6        6           Carriemouth       27\n",
      "7        7       Christopherfurt       27\n",
      "8        8           Colemanland       22\n",
      "9        9             Davidfurt       17\n",
      "10      10             Deanville       19\n",
      "11      11        East Aaronbury        9\n",
      "12      12       East Danielview       17\n",
      "13      13       East Kaylahaven       29\n",
      "14      14         East Kentstad       13\n",
      "15      15        East Marymouth       27\n",
      "16      16             Erikaland       12\n",
      "17      17             Garzaport        3\n",
      "18      18           Grahamburgh       25\n",
      "19      19             Grayville       15\n",
      "20      20        Harringtonfort        6\n",
      "21      21           Huntermouth       24\n",
      "22      22           Hurleymouth       28\n",
      "23      23              Jerryton       25\n",
      "24      24           Jessicaport        6\n",
      "25      25               Johnton       21\n",
      "26      26          Joneschester       25\n",
      "27      27            Josephside       27\n",
      "28      28            Justinberg       30\n",
      "29      29             Karenberg       17\n",
      "..     ...                   ...      ...\n",
      "90      90         South Evanton       31\n",
      "91      91            South Jack       19\n",
      "92      92        South Jennifer        7\n",
      "93      93       South Karenland       38\n",
      "94      94          South Latoya       19\n",
      "95      95     South Marychester        8\n",
      "96      96    South Michelleport       31\n",
      "97      97         South Phillip       31\n",
      "98      98       South Saramouth        4\n",
      "99      99          South Teresa       22\n",
      "100    100           Taylorhaven        6\n",
      "101    101          Valentineton       22\n",
      "102    102          Veronicaberg       17\n",
      "103    103          Victoriaport       14\n",
      "104    104           West Angela       39\n",
      "105    105          West Anthony       30\n",
      "106    106  West Christopherberg       26\n",
      "107    107         West Ericstad       18\n",
      "108    108          West Gabriel       23\n",
      "109    109           West Hannah       21\n",
      "110    110          West Heather        9\n",
      "111    111            West Heidi       28\n",
      "112    112       West Josephberg       26\n",
      "113    113         West Kimmouth       20\n",
      "114    114   West Patrickchester       16\n",
      "115    115           West Robert       31\n",
      "116    116      West Samuelburgh       25\n",
      "117    117       Williamsonville       14\n",
      "118    118          Williamsstad       23\n",
      "119    119          Williamsview       20\n",
      "\n",
      "[120 rows x 3 columns]\n"
     ]
    }
   ],
   "source": [
    "print(total_rides_by_city)"
   ]
  },
  {
   "cell_type": "code",
   "execution_count": 24,
   "metadata": {},
   "outputs": [
    {
     "name": "stdout",
     "output_type": "stream",
     "text": [
      "[WinError 2] The system cannot find the file specified: 'RICH201904DATA3'\n",
      "C:\\Users\\Gold _HP\\RICH201904DATA3\\5-Matplotlib\\Homework\\Pyber\\data\n"
     ]
    }
   ],
   "source": [
    "cd RICH201904DATA3"
   ]
  },
  {
   "cell_type": "code",
   "execution_count": 11,
   "metadata": {},
   "outputs": [
    {
     "name": "stdout",
     "output_type": "stream",
     "text": [
      "C:\\Users\\Gold _HP\\RICH201904DATA3\\5-Matplotlib\n"
     ]
    }
   ],
   "source": [
    "cd 5-Matplotlib"
   ]
  },
  {
   "cell_type": "code",
   "execution_count": 13,
   "metadata": {},
   "outputs": [
    {
     "name": "stdout",
     "output_type": "stream",
     "text": [
      "C:\\Users\\Gold _HP\\RICH201904DATA3\\5-Matplotlib\\Homework\n"
     ]
    }
   ],
   "source": [
    "#telling computer where to look for the files and dependencies\n",
    "cd Homework"
   ]
  },
  {
   "cell_type": "code",
   "execution_count": 14,
   "metadata": {},
   "outputs": [
    {
     "name": "stdout",
     "output_type": "stream",
     "text": [
      "C:\\Users\\Gold _HP\\RICH201904DATA3\\5-Matplotlib\\Homework\\Pyber\n"
     ]
    }
   ],
   "source": [
    "cd Pyber"
   ]
  },
  {
   "cell_type": "code",
   "execution_count": 15,
   "metadata": {},
   "outputs": [
    {
     "name": "stdout",
     "output_type": "stream",
     "text": [
      "C:\\Users\\Gold _HP\\RICH201904DATA3\\5-Matplotlib\\Homework\\Pyber\\data\n"
     ]
    }
   ],
   "source": [
    "cd data"
   ]
  },
  {
   "cell_type": "code",
   "execution_count": 17,
   "metadata": {},
   "outputs": [
    {
     "name": "stdout",
     "output_type": "stream",
     "text": [
      " Volume in drive C is Windows\n",
      " Volume Serial Number is 9424-13F5\n",
      "\n",
      " Directory of C:\\Users\\Gold _HP\\RICH201904DATA3\\5-Matplotlib\\Homework\\Pyber\\data\n",
      "\n",
      "05/25/2019  10:19 PM    <DIR>          .\n",
      "05/25/2019  10:19 PM    <DIR>          ..\n",
      "05/19/2019  11:35 AM             2,734 city_data.csv\n",
      "05/25/2019  10:19 PM           125,526 ride_data.csv\n",
      "               2 File(s)        128,260 bytes\n",
      "               2 Dir(s)  71,488,917,504 bytes free\n"
     ]
    }
   ],
   "source": [
    "ls"
   ]
  },
  {
   "cell_type": "code",
   "execution_count": 19,
   "metadata": {},
   "outputs": [],
   "source": [
    "#Importing Dependencies due to shutting down computer\n",
    "import matplotlib.pyplot as plt\n",
    "import pandas as pd\n",
    "import numpy as np\n",
    "import os"
   ]
  },
  {
   "cell_type": "code",
   "execution_count": 20,
   "metadata": {},
   "outputs": [],
   "source": [
    "city_data_file = \"city_data.csv\"\n",
    "ride_data_file = \"ride_data.csv\""
   ]
  },
  {
   "cell_type": "code",
   "execution_count": 21,
   "metadata": {},
   "outputs": [],
   "source": [
    "city_data = pd.read_csv(city_data_file)\n",
    "ride_data = pd.read_csv(ride_data_file)"
   ]
  },
  {
   "cell_type": "code",
   "execution_count": 23,
   "metadata": {},
   "outputs": [],
   "source": [
    "combined_df = pd.merge(city_data, ride_data, on = \"city\")"
   ]
  },
  {
   "cell_type": "code",
   "execution_count": 34,
   "metadata": {},
   "outputs": [
    {
     "name": "stdout",
     "output_type": "stream",
     "text": [
      "                      city  driver_count\n",
      "0              Richardfort            38\n",
      "28            Williamsstad            59\n",
      "51             Port Angela            67\n",
      "70              Rodneyfort            34\n",
      "93             West Robert            39\n",
      "124           West Anthony            70\n",
      "154            West Angela            48\n",
      "193          Martinezhaven            25\n",
      "217              Karenberg            22\n",
      "234            Barajasview            26\n",
      "256             Robertport            12\n",
      "276           Joneschester            39\n",
      "301                Leahton            17\n",
      "322   West Christopherberg            32\n",
      "348                Johnton            27\n",
      "369           Reynoldsfurt            67\n",
      "388             Port David             7\n",
      "410    New Kimberlyborough            33\n",
      "440            Carriemouth            52\n",
      "467              Rogerston            25\n",
      "489               Jerryton            64\n",
      "514              Loganberg            23\n",
      "542           Simpsonburgh            21\n",
      "566             Port Frank            23\n",
      "599           South Latoya            10\n",
      "618       West Samuelburgh            73\n",
      "643            Grahamburgh            61\n",
      "668    West Patrickchester            25\n",
      "684         North Madeline            19\n",
      "709             South Jack            46\n",
      "...                    ...           ...\n",
      "2038         Barronchester            11\n",
      "2054           Brandonfort            10\n",
      "2073       East Danielview            22\n",
      "2090        East Marymouth             5\n",
      "2117           Mezachester            14\n",
      "2134             Lewisland             4\n",
      "2151            Josephside            25\n",
      "2178             Davidfurt            23\n",
      "2195         Nicolechester            19\n",
      "2214        East Aaronbury             7\n",
      "2223    North Richardhaven             1\n",
      "2237         North Jeffrey            11\n",
      "2250        South Jennifer             7\n",
      "2257          West Heather             4\n",
      "2266            Newtonview             1\n",
      "2270           North Holly             8\n",
      "2279           Michaelberg             6\n",
      "2291           Taylorhaven             1\n",
      "2297           Penaborough             6\n",
      "2302        Harringtonfort             4\n",
      "2308            Lake Jamie             4\n",
      "2314       Lake Latoyabury             2\n",
      "2325           North Jaime             1\n",
      "2333     South Marychester             1\n",
      "2341             Garzaport             7\n",
      "2344          Bradshawfurt             7\n",
      "2354          New Ryantown             2\n",
      "2360        Randallchester             9\n",
      "2365           Jessicaport             1\n",
      "2371       South Saramouth             7\n",
      "\n",
      "[120 rows x 2 columns]\n"
     ]
    }
   ],
   "source": [
    "#total drivers by city\n",
    "total_drivers = combined_df[[\"city\", \"driver_count\"]].drop_duplicates(\"city\")\n",
    "print(total_drivers)"
   ]
  },
  {
   "cell_type": "code",
   "execution_count": 54,
   "metadata": {},
   "outputs": [
    {
     "name": "stdout",
     "output_type": "stream",
     "text": [
      "                      city      type\n",
      "0              Richardfort     Urban\n",
      "28            Williamsstad     Urban\n",
      "51             Port Angela     Urban\n",
      "70              Rodneyfort     Urban\n",
      "93             West Robert     Urban\n",
      "124           West Anthony     Urban\n",
      "154            West Angela     Urban\n",
      "193          Martinezhaven     Urban\n",
      "217              Karenberg     Urban\n",
      "234            Barajasview     Urban\n",
      "256             Robertport     Urban\n",
      "276           Joneschester     Urban\n",
      "301                Leahton     Urban\n",
      "322   West Christopherberg     Urban\n",
      "348                Johnton     Urban\n",
      "369           Reynoldsfurt     Urban\n",
      "388             Port David     Urban\n",
      "410    New Kimberlyborough     Urban\n",
      "440            Carriemouth     Urban\n",
      "467              Rogerston     Urban\n",
      "489               Jerryton     Urban\n",
      "514              Loganberg     Urban\n",
      "542           Simpsonburgh     Urban\n",
      "566             Port Frank     Urban\n",
      "599           South Latoya     Urban\n",
      "618       West Samuelburgh     Urban\n",
      "643            Grahamburgh     Urban\n",
      "668    West Patrickchester     Urban\n",
      "684         North Madeline     Urban\n",
      "709             South Jack     Urban\n",
      "...                    ...       ...\n",
      "2038         Barronchester  Suburban\n",
      "2054           Brandonfort  Suburban\n",
      "2073       East Danielview  Suburban\n",
      "2090        East Marymouth  Suburban\n",
      "2117           Mezachester  Suburban\n",
      "2134             Lewisland  Suburban\n",
      "2151            Josephside  Suburban\n",
      "2178             Davidfurt  Suburban\n",
      "2195         Nicolechester  Suburban\n",
      "2214        East Aaronbury  Suburban\n",
      "2223    North Richardhaven  Suburban\n",
      "2237         North Jeffrey  Suburban\n",
      "2250        South Jennifer     Rural\n",
      "2257          West Heather     Rural\n",
      "2266            Newtonview     Rural\n",
      "2270           North Holly     Rural\n",
      "2279           Michaelberg     Rural\n",
      "2291           Taylorhaven     Rural\n",
      "2297           Penaborough     Rural\n",
      "2302        Harringtonfort     Rural\n",
      "2308            Lake Jamie     Rural\n",
      "2314       Lake Latoyabury     Rural\n",
      "2325           North Jaime     Rural\n",
      "2333     South Marychester     Rural\n",
      "2341             Garzaport     Rural\n",
      "2344          Bradshawfurt     Rural\n",
      "2354          New Ryantown     Rural\n",
      "2360        Randallchester     Rural\n",
      "2365           Jessicaport     Rural\n",
      "2371       South Saramouth     Rural\n",
      "\n",
      "[120 rows x 2 columns]\n"
     ]
    }
   ],
   "source": [
    "#sort by City type\n",
    "city_type = combined_df[[\"city\", \"type\"]].drop_duplicates(\"city\")\n",
    "print(city_type)"
   ]
  },
  {
   "cell_type": "code",
   "execution_count": 47,
   "metadata": {},
   "outputs": [],
   "source": [
    "#Fares by City Type\n",
    "total_fares = combined_df[\"fare\"].sum()\n",
    "urban_fare = combined_df.loc[combined_df[\"type\"] == \"urban\", \"fare\"].sum()\n",
    "suburban_fare = combined_df.loc[combined_df[\"type\"] == \"suburban\", \"fare\"].sum()\n",
    "rural_fare = combined_df.loc[combined_df[\"type\"] == \"rural\", \"fare\"].sum()\n",
    "urban_fare_perc = round(urban_fare/total_fares, 2) * 100\n",
    "suburban_fare_perc = round(suburban_fare/total_fares, 2) * 100\n",
    "rural_fare_perc = round(rural_fare/total_fares, 2) * 100"
   ]
  },
  {
   "cell_type": "code",
   "execution_count": 49,
   "metadata": {},
   "outputs": [
    {
     "data": {
      "image/png": "[encoded data removed]",
      "text/plain": [
       "<Figure size 432x288 with 1 Axes>"
      ]
     },
     "metadata": {},
     "output_type": "display_data"
    }
   ],
   "source": [
    "#Fares by City Type Pie chart setup \n",
    "labels = 'Urban', 'Suburban', 'Rural'\n",
    "sizes = [urban_fare_perc, suburban_fare_perc, rural_fare_perc]\n",
    "explode = (0.1, 0, 0)\n",
    "fig1, ax1 = plt.subplots()\n",
    "ax1.pie(sizes, explode=explode, labels=labels, autopct='%1.1f%%',\n",
    "        shadow=True, startangle=130, colors = [\"gold\", \"skyblue\", \"coral\"])\n",
    "ax1.axis('equal')\n",
    "plt_title = (\"% of Rides by City_Type\")\n",
    "plt.show()        "
   ]
  },
  {
   "cell_type": "code",
   "execution_count": 137,
   "metadata": {},
   "outputs": [
    {
     "data": {
      "image/png": "[encoded data removed]",
      "text/plain": [
       "<Figure size 432x288 with 1 Axes>"
      ]
     },
     "metadata": {},
     "output_type": "display_data"
    }
   ],
   "source": [
    "#Rides by City Type\n",
    "final_total_rides = len(combined_df)\n",
    "urban_rides = round(combined_df.loc[combined_df[\"type\"] == \"Urban\", \"ride_id\"].count()/final_total_rides, 2) * 100\n",
    "suburban_rides = round(combined_df.loc[combined_df[\"type\"] == \"Suburban\", \"ride_id\"].count()/final_total_rides, 2) * 100\n",
    "rural_rides = round(combined_df.loc[combined_df[\"type\"] == \"Rural\", \"ride_id\"].count()/final_total_rides, 2) * 100\n",
    "labels = 'Urban', 'Rural', 'Suburban'\n",
    "sizes = [urban_rides, rural_rides, suburban_rides]\n",
    "explode = (0.1, 0, 0) \n",
    "fig1, ax1 = plt.subplots()\n",
    "ax1.pie(sizes, explode=explode, labels=labels, autopct='%1.1f%%',\n",
    "        shadow=True, startangle=250, colors = [\"coral\", \"gold\", \"skyblue\"])\n",
    "ax1.axis('equal')  # Equal aspect ratio ensures that pie is drawn as a circle.\n",
    "plt.title(\"% of Total Rides by City Type\")\n",
    "\n",
    "plt.show()"
   ]
  },
  {
   "cell_type": "code",
   "execution_count": 26,
   "metadata": {},
   "outputs": [
    {
     "data": {
      "image/png": "[encoded data removed]",
      "text/plain": [
       "<Figure size 432x288 with 1 Axes>"
      ]
     },
     "metadata": {},
     "output_type": "display_data"
    }
   ],
   "source": [
    "#Total drivers by city type\n",
    "final_total_drivers = combined_df[\"driver_count\"].sum()\n",
    "urban_drivers = round(combined_df.loc[combined_df[\"type\"] == \"Urban\", \"driver_count\"].sum()/final_total_drivers, 2)* 100\n",
    "rural_drivers = round(combined_df.loc[combined_df[\"type\"] == \"Rural\", \"driver_count\"].sum()/final_total_drivers, 2)* 100\n",
    "suburban_drivers = round(combined_df.loc[combined_df[\"type\"] == \"Suburban\", \"driver_count\"].sum()/final_total_drivers, 2)* 100\n",
    "# Pie chart\n",
    "labels = 'Urban', 'Rural', 'Suburban'\n",
    "sizes = [urban_drivers, rural_drivers, suburban_drivers]\n",
    "explode = (0.2, 0, 0)  # only \"explode\" the 2nd slice (i.e. 'Hogs')\n",
    "\n",
    "fig1, ax1 = plt.subplots()\n",
    "ax1.pie(sizes, explode=explode, labels=labels, autopct='%1.1f%%',\n",
    "        shadow=True, startangle=250, colors = [\"lightcoral\", \"gold\", \"lightskyblue\"])\n",
    "ax1.axis('equal')  # Equal aspect ratio ensures that pie is drawn as a circle.\n",
    "plt.title(\"% of Total Drivers by City Type\")\n",
    "\n",
    "plt.show()"
   ]
  },
  {
   "cell_type": "code",
   "execution_count": 4,
   "metadata": {},
   "outputs": [
    {
     "name": "stdout",
     "output_type": "stream",
     "text": [
      "C:\\Users\\Gold _HP\\RICH201904DATA3\\5-Matplotlib\\Homework\\Pyber\\data\n"
     ]
    }
   ],
   "source": [
    "#Restart\n",
    "cd Homework\\Pyber\\data"
   ]
  },
  {
   "cell_type": "code",
   "execution_count": 5,
   "metadata": {},
   "outputs": [],
   "source": [
    "import matplotlib.pyplot as plt\n",
    "import pandas as pd\n",
    "import numpy as np\n",
    "import os"
   ]
  },
  {
   "cell_type": "code",
   "execution_count": 11,
   "metadata": {},
   "outputs": [],
   "source": [
    "%matplotlib inline"
   ]
  },
  {
   "cell_type": "code",
   "execution_count": 6,
   "metadata": {},
   "outputs": [],
   "source": [
    "city_data_file = \"city_data.csv\"\n",
    "ride_data_file = \"ride_data.csv\""
   ]
  },
  {
   "cell_type": "code",
   "execution_count": 8,
   "metadata": {},
   "outputs": [],
   "source": [
    "city_data = pd.read_csv(city_data_file)\n",
    "ride_data = pd.read_csv(ride_data_file)"
   ]
  },
  {
   "cell_type": "code",
   "execution_count": 9,
   "metadata": {},
   "outputs": [],
   "source": [
    "combined_df = pd.merge(city_data, ride_data, on = \"city\")"
   ]
  },
  {
   "cell_type": "code",
   "execution_count": 17,
   "metadata": {},
   "outputs": [
    {
     "data": {
      "text/html": [
       "<div>\n",
       "<style scoped>\n",
       "    .dataframe tbody tr th:only-of-type {\n",
       "        vertical-align: middle;\n",
       "    }\n",
       "\n",
       "    .dataframe tbody tr th {\n",
       "        vertical-align: top;\n",
       "    }\n",
       "\n",
       "    .dataframe thead th {\n",
       "        text-align: right;\n",
       "    }\n",
       "</style>\n",
       "<table border=\"1\" class=\"dataframe\">\n",
       "  <thead>\n",
       "    <tr style=\"text-align: right;\">\n",
       "      <th></th>\n",
       "      <th>city</th>\n",
       "      <th>driver_count</th>\n",
       "      <th>type</th>\n",
       "      <th>date</th>\n",
       "      <th>fare</th>\n",
       "      <th>ride_id</th>\n",
       "    </tr>\n",
       "  </thead>\n",
       "  <tbody>\n",
       "    <tr>\n",
       "      <th>2370</th>\n",
       "      <td>Jessicaport</td>\n",
       "      <td>1</td>\n",
       "      <td>Rural</td>\n",
       "      <td>2018-01-31 17:57:25</td>\n",
       "      <td>58.29</td>\n",
       "      <td>623154556195</td>\n",
       "    </tr>\n",
       "    <tr>\n",
       "      <th>2371</th>\n",
       "      <td>South Saramouth</td>\n",
       "      <td>7</td>\n",
       "      <td>Rural</td>\n",
       "      <td>2018-02-20 16:32:36</td>\n",
       "      <td>44.29</td>\n",
       "      <td>3622365199969</td>\n",
       "    </tr>\n",
       "    <tr>\n",
       "      <th>2372</th>\n",
       "      <td>South Saramouth</td>\n",
       "      <td>7</td>\n",
       "      <td>Rural</td>\n",
       "      <td>2018-01-28 15:55:33</td>\n",
       "      <td>31.25</td>\n",
       "      <td>7118046558393</td>\n",
       "    </tr>\n",
       "    <tr>\n",
       "      <th>2373</th>\n",
       "      <td>South Saramouth</td>\n",
       "      <td>7</td>\n",
       "      <td>Rural</td>\n",
       "      <td>2018-03-27 21:07:16</td>\n",
       "      <td>11.87</td>\n",
       "      <td>170351888128</td>\n",
       "    </tr>\n",
       "    <tr>\n",
       "      <th>2374</th>\n",
       "      <td>South Saramouth</td>\n",
       "      <td>7</td>\n",
       "      <td>Rural</td>\n",
       "      <td>2018-04-12 18:11:50</td>\n",
       "      <td>57.23</td>\n",
       "      <td>5081198789583</td>\n",
       "    </tr>\n",
       "  </tbody>\n",
       "</table>\n",
       "</div>"
      ],
      "text/plain": [
       "                 city  driver_count   type                 date   fare  \\\n",
       "2370      Jessicaport             1  Rural  2018-01-31 17:57:25  58.29   \n",
       "2371  South Saramouth             7  Rural  2018-02-20 16:32:36  44.29   \n",
       "2372  South Saramouth             7  Rural  2018-01-28 15:55:33  31.25   \n",
       "2373  South Saramouth             7  Rural  2018-03-27 21:07:16  11.87   \n",
       "2374  South Saramouth             7  Rural  2018-04-12 18:11:50  57.23   \n",
       "\n",
       "            ride_id  \n",
       "2370   623154556195  \n",
       "2371  3622365199969  \n",
       "2372  7118046558393  \n",
       "2373   170351888128  \n",
       "2374  5081198789583  "
      ]
     },
     "execution_count": 17,
     "metadata": {},
     "output_type": "execute_result"
    }
   ],
   "source": [
    "combined_df.tail()"
   ]
  },
  {
   "cell_type": "code",
   "execution_count": 37,
   "metadata": {},
   "outputs": [],
   "source": [
    "#Bubble Plot Data\n",
    "urban_group = combined_df.loc[combined_df['type'] == 'Urban']\n",
    "suburban_group = combined_df.loc[combined_df['type'] == 'Suburban']\n",
    "rural_group = combined_df.loc[combined_df['type'] == 'Rural']"
   ]
  },
  {
   "cell_type": "code",
   "execution_count": 46,
   "metadata": {},
   "outputs": [
    {
     "ename": "KeyError",
     "evalue": "'total_rides_by_city'",
     "output_type": "error",
     "traceback": [
      "\u001b[1;31m---------------------------------------------------------------------------\u001b[0m",
      "\u001b[1;31mKeyError\u001b[0m                                  Traceback (most recent call last)",
      "\u001b[1;32mC:\\Users\\Anaconda1\\lib\\site-packages\\pandas\\core\\indexes\\base.py\u001b[0m in \u001b[0;36mget_loc\u001b[1;34m(self, key, method, tolerance)\u001b[0m\n\u001b[0;32m   2656\u001b[0m             \u001b[1;32mtry\u001b[0m\u001b[1;33m:\u001b[0m\u001b[1;33m\u001b[0m\u001b[1;33m\u001b[0m\u001b[0m\n\u001b[1;32m-> 2657\u001b[1;33m                 \u001b[1;32mreturn\u001b[0m \u001b[0mself\u001b[0m\u001b[1;33m.\u001b[0m\u001b[0m_engine\u001b[0m\u001b[1;33m.\u001b[0m\u001b[0mget_loc\u001b[0m\u001b[1;33m(\u001b[0m\u001b[0mkey\u001b[0m\u001b[1;33m)\u001b[0m\u001b[1;33m\u001b[0m\u001b[1;33m\u001b[0m\u001b[0m\n\u001b[0m\u001b[0;32m   2658\u001b[0m             \u001b[1;32mexcept\u001b[0m \u001b[0mKeyError\u001b[0m\u001b[1;33m:\u001b[0m\u001b[1;33m\u001b[0m\u001b[1;33m\u001b[0m\u001b[0m\n",
      "\u001b[1;32mpandas/_libs/index.pyx\u001b[0m in \u001b[0;36mpandas._libs.index.IndexEngine.get_loc\u001b[1;34m()\u001b[0m\n",
      "\u001b[1;32mpandas/_libs/index.pyx\u001b[0m in \u001b[0;36mpandas._libs.index.IndexEngine.get_loc\u001b[1;34m()\u001b[0m\n",
      "\u001b[1;32mpandas/_libs/hashtable_class_helper.pxi\u001b[0m in \u001b[0;36mpandas._libs.hashtable.PyObjectHashTable.get_item\u001b[1;34m()\u001b[0m\n",
      "\u001b[1;32mpandas/_libs/hashtable_class_helper.pxi\u001b[0m in \u001b[0;36mpandas._libs.hashtable.PyObjectHashTable.get_item\u001b[1;34m()\u001b[0m\n",
      "\u001b[1;31mKeyError\u001b[0m: 'total_rides_by_city'",
      "\nDuring handling of the above exception, another exception occurred:\n",
      "\u001b[1;31mKeyError\u001b[0m                                  Traceback (most recent call last)",
      "\u001b[1;32m<ipython-input-46-fa1df0b3ce5d>\u001b[0m in \u001b[0;36m<module>\u001b[1;34m\u001b[0m\n\u001b[0;32m      1\u001b[0m urbanax1 = urban_group.plot(kind='scatter',x='total_rides_by_city', y='avg_fare',\n\u001b[0;32m      2\u001b[0m                         \u001b[0mcolor\u001b[0m\u001b[1;33m=\u001b[0m\u001b[1;34m'coral'\u001b[0m\u001b[1;33m,\u001b[0m \u001b[0ms\u001b[0m\u001b[1;33m=\u001b[0m\u001b[0mcombined_df\u001b[0m\u001b[1;33m[\u001b[0m\u001b[1;34m'driver_count'\u001b[0m\u001b[1;33m]\u001b[0m\u001b[1;33m*\u001b[0m\u001b[1;36m5\u001b[0m\u001b[1;33m,\u001b[0m \u001b[0mlabel\u001b[0m \u001b[1;33m=\u001b[0m \u001b[1;34m'Urban'\u001b[0m\u001b[1;33m,\u001b[0m\u001b[1;33m\u001b[0m\u001b[1;33m\u001b[0m\u001b[0m\n\u001b[1;32m----> 3\u001b[1;33m                         alpha = 0.5, edgecolor = \"black\", linewidths = 1)\n\u001b[0m",
      "\u001b[1;32mC:\\Users\\Anaconda1\\lib\\site-packages\\pandas\\plotting\\_core.py\u001b[0m in \u001b[0;36m__call__\u001b[1;34m(self, x, y, kind, ax, subplots, sharex, sharey, layout, figsize, use_index, title, grid, legend, style, logx, logy, loglog, xticks, yticks, xlim, ylim, rot, fontsize, colormap, table, yerr, xerr, secondary_y, sort_columns, **kwds)\u001b[0m\n\u001b[0;32m   2940\u001b[0m                           \u001b[0mfontsize\u001b[0m\u001b[1;33m=\u001b[0m\u001b[0mfontsize\u001b[0m\u001b[1;33m,\u001b[0m \u001b[0mcolormap\u001b[0m\u001b[1;33m=\u001b[0m\u001b[0mcolormap\u001b[0m\u001b[1;33m,\u001b[0m \u001b[0mtable\u001b[0m\u001b[1;33m=\u001b[0m\u001b[0mtable\u001b[0m\u001b[1;33m,\u001b[0m\u001b[1;33m\u001b[0m\u001b[1;33m\u001b[0m\u001b[0m\n\u001b[0;32m   2941\u001b[0m                           \u001b[0myerr\u001b[0m\u001b[1;33m=\u001b[0m\u001b[0myerr\u001b[0m\u001b[1;33m,\u001b[0m \u001b[0mxerr\u001b[0m\u001b[1;33m=\u001b[0m\u001b[0mxerr\u001b[0m\u001b[1;33m,\u001b[0m \u001b[0msecondary_y\u001b[0m\u001b[1;33m=\u001b[0m\u001b[0msecondary_y\u001b[0m\u001b[1;33m,\u001b[0m\u001b[1;33m\u001b[0m\u001b[1;33m\u001b[0m\u001b[0m\n\u001b[1;32m-> 2942\u001b[1;33m                           sort_columns=sort_columns, **kwds)\n\u001b[0m\u001b[0;32m   2943\u001b[0m     \u001b[0m__call__\u001b[0m\u001b[1;33m.\u001b[0m\u001b[0m__doc__\u001b[0m \u001b[1;33m=\u001b[0m \u001b[0mplot_frame\u001b[0m\u001b[1;33m.\u001b[0m\u001b[0m__doc__\u001b[0m\u001b[1;33m\u001b[0m\u001b[1;33m\u001b[0m\u001b[0m\n\u001b[0;32m   2944\u001b[0m \u001b[1;33m\u001b[0m\u001b[0m\n",
      "\u001b[1;32mC:\\Users\\Anaconda1\\lib\\site-packages\\pandas\\plotting\\_core.py\u001b[0m in \u001b[0;36mplot_frame\u001b[1;34m(data, x, y, kind, ax, subplots, sharex, sharey, layout, figsize, use_index, title, grid, legend, style, logx, logy, loglog, xticks, yticks, xlim, ylim, rot, fontsize, colormap, table, yerr, xerr, secondary_y, sort_columns, **kwds)\u001b[0m\n\u001b[0;32m   1971\u001b[0m                  \u001b[0myerr\u001b[0m\u001b[1;33m=\u001b[0m\u001b[0myerr\u001b[0m\u001b[1;33m,\u001b[0m \u001b[0mxerr\u001b[0m\u001b[1;33m=\u001b[0m\u001b[0mxerr\u001b[0m\u001b[1;33m,\u001b[0m\u001b[1;33m\u001b[0m\u001b[1;33m\u001b[0m\u001b[0m\n\u001b[0;32m   1972\u001b[0m                  \u001b[0msecondary_y\u001b[0m\u001b[1;33m=\u001b[0m\u001b[0msecondary_y\u001b[0m\u001b[1;33m,\u001b[0m \u001b[0msort_columns\u001b[0m\u001b[1;33m=\u001b[0m\u001b[0msort_columns\u001b[0m\u001b[1;33m,\u001b[0m\u001b[1;33m\u001b[0m\u001b[1;33m\u001b[0m\u001b[0m\n\u001b[1;32m-> 1973\u001b[1;33m                  **kwds)\n\u001b[0m\u001b[0;32m   1974\u001b[0m \u001b[1;33m\u001b[0m\u001b[0m\n\u001b[0;32m   1975\u001b[0m \u001b[1;33m\u001b[0m\u001b[0m\n",
      "\u001b[1;32mC:\\Users\\Anaconda1\\lib\\site-packages\\pandas\\plotting\\_core.py\u001b[0m in \u001b[0;36m_plot\u001b[1;34m(data, x, y, subplots, ax, kind, **kwds)\u001b[0m\n\u001b[0;32m   1738\u001b[0m         \u001b[1;32mif\u001b[0m \u001b[0misinstance\u001b[0m\u001b[1;33m(\u001b[0m\u001b[0mdata\u001b[0m\u001b[1;33m,\u001b[0m \u001b[0mABCDataFrame\u001b[0m\u001b[1;33m)\u001b[0m\u001b[1;33m:\u001b[0m\u001b[1;33m\u001b[0m\u001b[1;33m\u001b[0m\u001b[0m\n\u001b[0;32m   1739\u001b[0m             plot_obj = klass(data, x=x, y=y, subplots=subplots, ax=ax,\n\u001b[1;32m-> 1740\u001b[1;33m                              kind=kind, **kwds)\n\u001b[0m\u001b[0;32m   1741\u001b[0m         \u001b[1;32melse\u001b[0m\u001b[1;33m:\u001b[0m\u001b[1;33m\u001b[0m\u001b[1;33m\u001b[0m\u001b[0m\n\u001b[0;32m   1742\u001b[0m             raise ValueError(\"plot kind %r can only be used for data frames\"\n",
      "\u001b[1;32mC:\\Users\\Anaconda1\\lib\\site-packages\\pandas\\plotting\\_core.py\u001b[0m in \u001b[0;36m__init__\u001b[1;34m(self, data, x, y, s, c, **kwargs)\u001b[0m\n\u001b[0;32m    858\u001b[0m             \u001b[1;31m# the handling of this argument later\u001b[0m\u001b[1;33m\u001b[0m\u001b[1;33m\u001b[0m\u001b[1;33m\u001b[0m\u001b[0m\n\u001b[0;32m    859\u001b[0m             \u001b[0ms\u001b[0m \u001b[1;33m=\u001b[0m \u001b[1;36m20\u001b[0m\u001b[1;33m\u001b[0m\u001b[1;33m\u001b[0m\u001b[0m\n\u001b[1;32m--> 860\u001b[1;33m         \u001b[0msuper\u001b[0m\u001b[1;33m(\u001b[0m\u001b[0mScatterPlot\u001b[0m\u001b[1;33m,\u001b[0m \u001b[0mself\u001b[0m\u001b[1;33m)\u001b[0m\u001b[1;33m.\u001b[0m\u001b[0m__init__\u001b[0m\u001b[1;33m(\u001b[0m\u001b[0mdata\u001b[0m\u001b[1;33m,\u001b[0m \u001b[0mx\u001b[0m\u001b[1;33m,\u001b[0m \u001b[0my\u001b[0m\u001b[1;33m,\u001b[0m \u001b[0ms\u001b[0m\u001b[1;33m=\u001b[0m\u001b[0ms\u001b[0m\u001b[1;33m,\u001b[0m \u001b[1;33m**\u001b[0m\u001b[0mkwargs\u001b[0m\u001b[1;33m)\u001b[0m\u001b[1;33m\u001b[0m\u001b[1;33m\u001b[0m\u001b[0m\n\u001b[0m\u001b[0;32m    861\u001b[0m         \u001b[1;32mif\u001b[0m \u001b[0mis_integer\u001b[0m\u001b[1;33m(\u001b[0m\u001b[0mc\u001b[0m\u001b[1;33m)\u001b[0m \u001b[1;32mand\u001b[0m \u001b[1;32mnot\u001b[0m \u001b[0mself\u001b[0m\u001b[1;33m.\u001b[0m\u001b[0mdata\u001b[0m\u001b[1;33m.\u001b[0m\u001b[0mcolumns\u001b[0m\u001b[1;33m.\u001b[0m\u001b[0mholds_integer\u001b[0m\u001b[1;33m(\u001b[0m\u001b[1;33m)\u001b[0m\u001b[1;33m:\u001b[0m\u001b[1;33m\u001b[0m\u001b[1;33m\u001b[0m\u001b[0m\n\u001b[0;32m    862\u001b[0m             \u001b[0mc\u001b[0m \u001b[1;33m=\u001b[0m \u001b[0mself\u001b[0m\u001b[1;33m.\u001b[0m\u001b[0mdata\u001b[0m\u001b[1;33m.\u001b[0m\u001b[0mcolumns\u001b[0m\u001b[1;33m[\u001b[0m\u001b[0mc\u001b[0m\u001b[1;33m]\u001b[0m\u001b[1;33m\u001b[0m\u001b[1;33m\u001b[0m\u001b[0m\n",
      "\u001b[1;32mC:\\Users\\Anaconda1\\lib\\site-packages\\pandas\\plotting\\_core.py\u001b[0m in \u001b[0;36m__init__\u001b[1;34m(self, data, x, y, **kwargs)\u001b[0m\n\u001b[0;32m    801\u001b[0m         \u001b[1;32mif\u001b[0m \u001b[0mis_integer\u001b[0m\u001b[1;33m(\u001b[0m\u001b[0my\u001b[0m\u001b[1;33m)\u001b[0m \u001b[1;32mand\u001b[0m \u001b[1;32mnot\u001b[0m \u001b[0mself\u001b[0m\u001b[1;33m.\u001b[0m\u001b[0mdata\u001b[0m\u001b[1;33m.\u001b[0m\u001b[0mcolumns\u001b[0m\u001b[1;33m.\u001b[0m\u001b[0mholds_integer\u001b[0m\u001b[1;33m(\u001b[0m\u001b[1;33m)\u001b[0m\u001b[1;33m:\u001b[0m\u001b[1;33m\u001b[0m\u001b[1;33m\u001b[0m\u001b[0m\n\u001b[0;32m    802\u001b[0m             \u001b[0my\u001b[0m \u001b[1;33m=\u001b[0m \u001b[0mself\u001b[0m\u001b[1;33m.\u001b[0m\u001b[0mdata\u001b[0m\u001b[1;33m.\u001b[0m\u001b[0mcolumns\u001b[0m\u001b[1;33m[\u001b[0m\u001b[0my\u001b[0m\u001b[1;33m]\u001b[0m\u001b[1;33m\u001b[0m\u001b[1;33m\u001b[0m\u001b[0m\n\u001b[1;32m--> 803\u001b[1;33m         \u001b[1;32mif\u001b[0m \u001b[0mlen\u001b[0m\u001b[1;33m(\u001b[0m\u001b[0mself\u001b[0m\u001b[1;33m.\u001b[0m\u001b[0mdata\u001b[0m\u001b[1;33m[\u001b[0m\u001b[0mx\u001b[0m\u001b[1;33m]\u001b[0m\u001b[1;33m.\u001b[0m\u001b[0m_get_numeric_data\u001b[0m\u001b[1;33m(\u001b[0m\u001b[1;33m)\u001b[0m\u001b[1;33m)\u001b[0m \u001b[1;33m==\u001b[0m \u001b[1;36m0\u001b[0m\u001b[1;33m:\u001b[0m\u001b[1;33m\u001b[0m\u001b[1;33m\u001b[0m\u001b[0m\n\u001b[0m\u001b[0;32m    804\u001b[0m             \u001b[1;32mraise\u001b[0m \u001b[0mValueError\u001b[0m\u001b[1;33m(\u001b[0m\u001b[0mself\u001b[0m\u001b[1;33m.\u001b[0m\u001b[0m_kind\u001b[0m \u001b[1;33m+\u001b[0m \u001b[1;34m' requires x column to be numeric'\u001b[0m\u001b[1;33m)\u001b[0m\u001b[1;33m\u001b[0m\u001b[1;33m\u001b[0m\u001b[0m\n\u001b[0;32m    805\u001b[0m         \u001b[1;32mif\u001b[0m \u001b[0mlen\u001b[0m\u001b[1;33m(\u001b[0m\u001b[0mself\u001b[0m\u001b[1;33m.\u001b[0m\u001b[0mdata\u001b[0m\u001b[1;33m[\u001b[0m\u001b[0my\u001b[0m\u001b[1;33m]\u001b[0m\u001b[1;33m.\u001b[0m\u001b[0m_get_numeric_data\u001b[0m\u001b[1;33m(\u001b[0m\u001b[1;33m)\u001b[0m\u001b[1;33m)\u001b[0m \u001b[1;33m==\u001b[0m \u001b[1;36m0\u001b[0m\u001b[1;33m:\u001b[0m\u001b[1;33m\u001b[0m\u001b[1;33m\u001b[0m\u001b[0m\n",
      "\u001b[1;32mC:\\Users\\Anaconda1\\lib\\site-packages\\pandas\\core\\frame.py\u001b[0m in \u001b[0;36m__getitem__\u001b[1;34m(self, key)\u001b[0m\n\u001b[0;32m   2925\u001b[0m             \u001b[1;32mif\u001b[0m \u001b[0mself\u001b[0m\u001b[1;33m.\u001b[0m\u001b[0mcolumns\u001b[0m\u001b[1;33m.\u001b[0m\u001b[0mnlevels\u001b[0m \u001b[1;33m>\u001b[0m \u001b[1;36m1\u001b[0m\u001b[1;33m:\u001b[0m\u001b[1;33m\u001b[0m\u001b[1;33m\u001b[0m\u001b[0m\n\u001b[0;32m   2926\u001b[0m                 \u001b[1;32mreturn\u001b[0m \u001b[0mself\u001b[0m\u001b[1;33m.\u001b[0m\u001b[0m_getitem_multilevel\u001b[0m\u001b[1;33m(\u001b[0m\u001b[0mkey\u001b[0m\u001b[1;33m)\u001b[0m\u001b[1;33m\u001b[0m\u001b[1;33m\u001b[0m\u001b[0m\n\u001b[1;32m-> 2927\u001b[1;33m             \u001b[0mindexer\u001b[0m \u001b[1;33m=\u001b[0m \u001b[0mself\u001b[0m\u001b[1;33m.\u001b[0m\u001b[0mcolumns\u001b[0m\u001b[1;33m.\u001b[0m\u001b[0mget_loc\u001b[0m\u001b[1;33m(\u001b[0m\u001b[0mkey\u001b[0m\u001b[1;33m)\u001b[0m\u001b[1;33m\u001b[0m\u001b[1;33m\u001b[0m\u001b[0m\n\u001b[0m\u001b[0;32m   2928\u001b[0m             \u001b[1;32mif\u001b[0m \u001b[0mis_integer\u001b[0m\u001b[1;33m(\u001b[0m\u001b[0mindexer\u001b[0m\u001b[1;33m)\u001b[0m\u001b[1;33m:\u001b[0m\u001b[1;33m\u001b[0m\u001b[1;33m\u001b[0m\u001b[0m\n\u001b[0;32m   2929\u001b[0m                 \u001b[0mindexer\u001b[0m \u001b[1;33m=\u001b[0m \u001b[1;33m[\u001b[0m\u001b[0mindexer\u001b[0m\u001b[1;33m]\u001b[0m\u001b[1;33m\u001b[0m\u001b[1;33m\u001b[0m\u001b[0m\n",
      "\u001b[1;32mC:\\Users\\Anaconda1\\lib\\site-packages\\pandas\\core\\indexes\\base.py\u001b[0m in \u001b[0;36mget_loc\u001b[1;34m(self, key, method, tolerance)\u001b[0m\n\u001b[0;32m   2657\u001b[0m                 \u001b[1;32mreturn\u001b[0m \u001b[0mself\u001b[0m\u001b[1;33m.\u001b[0m\u001b[0m_engine\u001b[0m\u001b[1;33m.\u001b[0m\u001b[0mget_loc\u001b[0m\u001b[1;33m(\u001b[0m\u001b[0mkey\u001b[0m\u001b[1;33m)\u001b[0m\u001b[1;33m\u001b[0m\u001b[1;33m\u001b[0m\u001b[0m\n\u001b[0;32m   2658\u001b[0m             \u001b[1;32mexcept\u001b[0m \u001b[0mKeyError\u001b[0m\u001b[1;33m:\u001b[0m\u001b[1;33m\u001b[0m\u001b[1;33m\u001b[0m\u001b[0m\n\u001b[1;32m-> 2659\u001b[1;33m                 \u001b[1;32mreturn\u001b[0m \u001b[0mself\u001b[0m\u001b[1;33m.\u001b[0m\u001b[0m_engine\u001b[0m\u001b[1;33m.\u001b[0m\u001b[0mget_loc\u001b[0m\u001b[1;33m(\u001b[0m\u001b[0mself\u001b[0m\u001b[1;33m.\u001b[0m\u001b[0m_maybe_cast_indexer\u001b[0m\u001b[1;33m(\u001b[0m\u001b[0mkey\u001b[0m\u001b[1;33m)\u001b[0m\u001b[1;33m)\u001b[0m\u001b[1;33m\u001b[0m\u001b[1;33m\u001b[0m\u001b[0m\n\u001b[0m\u001b[0;32m   2660\u001b[0m         \u001b[0mindexer\u001b[0m \u001b[1;33m=\u001b[0m \u001b[0mself\u001b[0m\u001b[1;33m.\u001b[0m\u001b[0mget_indexer\u001b[0m\u001b[1;33m(\u001b[0m\u001b[1;33m[\u001b[0m\u001b[0mkey\u001b[0m\u001b[1;33m]\u001b[0m\u001b[1;33m,\u001b[0m \u001b[0mmethod\u001b[0m\u001b[1;33m=\u001b[0m\u001b[0mmethod\u001b[0m\u001b[1;33m,\u001b[0m \u001b[0mtolerance\u001b[0m\u001b[1;33m=\u001b[0m\u001b[0mtolerance\u001b[0m\u001b[1;33m)\u001b[0m\u001b[1;33m\u001b[0m\u001b[1;33m\u001b[0m\u001b[0m\n\u001b[0;32m   2661\u001b[0m         \u001b[1;32mif\u001b[0m \u001b[0mindexer\u001b[0m\u001b[1;33m.\u001b[0m\u001b[0mndim\u001b[0m \u001b[1;33m>\u001b[0m \u001b[1;36m1\u001b[0m \u001b[1;32mor\u001b[0m \u001b[0mindexer\u001b[0m\u001b[1;33m.\u001b[0m\u001b[0msize\u001b[0m \u001b[1;33m>\u001b[0m \u001b[1;36m1\u001b[0m\u001b[1;33m:\u001b[0m\u001b[1;33m\u001b[0m\u001b[1;33m\u001b[0m\u001b[0m\n",
      "\u001b[1;32mpandas/_libs/index.pyx\u001b[0m in \u001b[0;36mpandas._libs.index.IndexEngine.get_loc\u001b[1;34m()\u001b[0m\n",
      "\u001b[1;32mpandas/_libs/index.pyx\u001b[0m in \u001b[0;36mpandas._libs.index.IndexEngine.get_loc\u001b[1;34m()\u001b[0m\n",
      "\u001b[1;32mpandas/_libs/hashtable_class_helper.pxi\u001b[0m in \u001b[0;36mpandas._libs.hashtable.PyObjectHashTable.get_item\u001b[1;34m()\u001b[0m\n",
      "\u001b[1;32mpandas/_libs/hashtable_class_helper.pxi\u001b[0m in \u001b[0;36mpandas._libs.hashtable.PyObjectHashTable.get_item\u001b[1;34m()\u001b[0m\n",
      "\u001b[1;31mKeyError\u001b[0m: 'total_rides_by_city'"
     ]
    }
   ],
   "source": [
    "urbanax1 = urban_group.plot(kind='scatter',x='total_rides_by_city', y='avg_fare',\n",
    "                        color='coral', s=combined_df['driver_count']*5, label = 'Urban', \n",
    "                        alpha = 0.5, edgecolor = \"black\", linewidths = 1)"
   ]
  },
  {
   "cell_type": "code",
   "execution_count": null,
   "metadata": {},
   "outputs": [],
   "source": [
    "suburbanax2 = suburban_group.plot(kind='scatter',x='total_rides_by_city', y='avg_fare',\n",
    "                        color='skyblue', s=combined_df['driver_count']*5, label = 'Suburban', \n",
    "                        alpha = 0.5, edgecolor = \"black\", linewidths = 1)"
   ]
  },
  {
   "cell_type": "code",
   "execution_count": null,
   "metadata": {},
   "outputs": [],
   "source": [
    "ruralax3 = rural_group.plot(kind='scatter',x='total_rides_by_city', y='avg_fare',\n",
    "                        color='gold', s=combined_df['driver_count']*5, label = 'Rural', \n",
    "                        alpha = 0.5, edgecolor = \"black\", linewidths = 1)"
   ]
  },
  {
   "cell_type": "code",
   "execution_count": null,
   "metadata": {},
   "outputs": [],
   "source": [
    "#Bubble Plot\n",
    "plt.title(\"Pyber Ride Sharing Data\")\n",
    "plt.xlabel(\"Total Rides Per City\")\n",
    "plt.ylabel(\"Avg Fare USD\")\n",
    "\n",
    "plt.legend(title = 'City Types')\n",
    "plt.grid(True)\n",
    "plt.show()"
   ]
  }
 ],
 "metadata": {
  "kernelspec": {
   "display_name": "Python 3",
   "language": "python",
   "name": "python3"
  },
  "language_info": {
   "codemirror_mode": {
    "name": "ipython",
    "version": 3
   },
   "file_extension": ".py",
   "mimetype": "text/x-python",
   "name": "python",
   "nbconvert_exporter": "python",
   "pygments_lexer": "ipython3",
   "version": "3.7.3"
  }
 },
 "nbformat": 4,
 "nbformat_minor": 2
}
